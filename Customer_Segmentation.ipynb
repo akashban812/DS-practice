{
  "nbformat": 4,
  "nbformat_minor": 0,
  "metadata": {
    "colab": {
      "name": "Customer Segmentation.ipynb",
      "provenance": [],
      "collapsed_sections": [],
      "mount_file_id": "1JFs9gxCnb1NpC-j_LSiOPuQUbWXzpm0n",
      "authorship_tag": "ABX9TyPAjr5b1va4rAvbgxjy5qZU",
      "include_colab_link": true
    },
    "kernelspec": {
      "name": "python3",
      "display_name": "Python 3"
    },
    "language_info": {
      "name": "python"
    }
  },
  "cells": [
    {
      "cell_type": "markdown",
      "metadata": {
        "id": "view-in-github",
        "colab_type": "text"
      },
      "source": [
        "<a href=\"https://colab.research.google.com/github/akashban812/DS-practice/blob/main/Customer_Segmentation.ipynb\" target=\"_parent\"><img src=\"https://colab.research.google.com/assets/colab-badge.svg\" alt=\"Open In Colab\"/></a>"
      ]
    },
    {
      "cell_type": "code",
      "execution_count": 1,
      "metadata": {
        "id": "aof7VONKmKkb"
      },
      "outputs": [],
      "source": [
        "import os as os\n",
        "os.chdir('/content/drive/MyDrive/DS notebooks')\n",
        "os.getcwd()\n",
        "%matplotlib inline\n",
        "import numpy as np\n",
        "import pandas as pd\n",
        "import matplotlib.pyplot as plt\n"
      ]
    },
    {
      "cell_type": "code",
      "source": [
        "#@title Default title text\n",
        "##Importing the data\n",
        "##Unicode escape in activated to encounter any error arising due to any invalid characters\n",
        "\n",
        "## Using the 'Online Retail' dataset from Kaggle\n",
        "\n",
        "\n",
        "rtl_raw_data=pd.read_csv('OnlineRetail.csv',encoding='unicode_escape')\n",
        "\n"
      ],
      "metadata": {
        "id": "_xsOJ_kIrm2x",
        "cellView": "code"
      },
      "execution_count": 2,
      "outputs": []
    },
    {
      "cell_type": "code",
      "source": [
        "###checking distribution by country\n",
        "country_cust=rtl_raw_data[['Country','CustomerID']].drop_duplicates()\n",
        "country_cust_grp= country_cust.groupby(['Country'])['CustomerID'].nunique().reset_index().sort_values(by=['CustomerID'],ascending=[False])\n",
        "country_cust_grp\n",
        "\n",
        "##In the next step we'll use only the records for UK as it has the max customers\n",
        "rtl_raw_UK=rtl_raw_data[rtl_raw_data['Country']=='United Kingdom'].reset_index(drop=True)"
      ],
      "metadata": {
        "id": "Rbq90JNDx7yR"
      },
      "execution_count": 3,
      "outputs": []
    },
    {
      "cell_type": "code",
      "source": [
        "\n",
        "##Checking for missng values\n",
        "rtl_raw_UK.isnull().sum(axis=0)\n",
        "\n"
      ],
      "metadata": {
        "id": "BVR3FILJ5Fn5",
        "colab": {
          "base_uri": "https://localhost:8080/"
        },
        "outputId": "be86e2ed-830c-4f24-a979-7066d8cc64d6"
      },
      "execution_count": 4,
      "outputs": [
        {
          "output_type": "execute_result",
          "data": {
            "text/plain": [
              "InvoiceNo           0\n",
              "StockCode           0\n",
              "Description      1454\n",
              "Quantity            0\n",
              "InvoiceDate         0\n",
              "UnitPrice           0\n",
              "CustomerID     133600\n",
              "Country             0\n",
              "dtype: int64"
            ]
          },
          "metadata": {},
          "execution_count": 4
        }
      ]
    },
    {
      "cell_type": "code",
      "source": [
        "##removing missing values for the customerid column\n",
        "rtl_raw_UK_2=rtl_raw_UK[pd.notnull(rtl_raw_UK['CustomerID'])]\n",
        "\n",
        "##Validating if there are any negative vales in the Quantity column\n",
        "rtl_raw_UK_2.Quantity.min()\n"
      ],
      "metadata": {
        "colab": {
          "base_uri": "https://localhost:8080/"
        },
        "id": "1Dm9VGn8DWy7",
        "outputId": "8a812095-791f-4fa8-eb0d-4978ab272ed3"
      },
      "execution_count": 5,
      "outputs": [
        {
          "output_type": "execute_result",
          "data": {
            "text/plain": [
              "-80995"
            ]
          },
          "metadata": {},
          "execution_count": 5
        }
      ]
    },
    {
      "cell_type": "code",
      "source": [
        "##Validating if there are any negative vales in the UnitPrice column\n",
        "rtl_raw_UK_2.UnitPrice.min()"
      ],
      "metadata": {
        "id": "WtOYsJ3ZGF1z",
        "colab": {
          "base_uri": "https://localhost:8080/"
        },
        "outputId": "b7485b72-ac47-4421-fd71-040c03e19aa9"
      },
      "execution_count": 7,
      "outputs": [
        {
          "output_type": "execute_result",
          "data": {
            "text/plain": [
              "0.0"
            ]
          },
          "metadata": {},
          "execution_count": 7
        }
      ]
    },
    {
      "cell_type": "code",
      "source": [
        "##Filtering out negative values from Quantity column\n",
        "rtl_raw_UK_3=rtl_raw_UK_2[rtl_raw_UK_2['Quantity']>0]\n",
        "\n",
        "##Converting the date filed to datetime\n",
        "rtl_raw_UK_3['InvoiceDate']=pd.to_datetime(rtl_raw_UK_3['InvoiceDate'])\n"
      ],
      "metadata": {
        "colab": {
          "base_uri": "https://localhost:8080/"
        },
        "id": "foTtGg8PM4ND",
        "outputId": "dd0793cc-7bf0-4258-8609-2665ffcce808"
      },
      "execution_count": 8,
      "outputs": [
        {
          "output_type": "stream",
          "name": "stderr",
          "text": [
            "/usr/local/lib/python3.7/dist-packages/ipykernel_launcher.py:5: SettingWithCopyWarning: \n",
            "A value is trying to be set on a copy of a slice from a DataFrame.\n",
            "Try using .loc[row_indexer,col_indexer] = value instead\n",
            "\n",
            "See the caveats in the documentation: https://pandas.pydata.org/pandas-docs/stable/user_guide/indexing.html#returning-a-view-versus-a-copy\n",
            "  \"\"\"\n"
          ]
        }
      ]
    },
    {
      "cell_type": "code",
      "source": [
        "###Calculation of total amt\n",
        "rtl_raw_UK_3['Total']=rtl_raw_UK_3['Quantity']*rtl_raw_UK_3['UnitPrice']\n"
      ],
      "metadata": {
        "colab": {
          "base_uri": "https://localhost:8080/"
        },
        "id": "_mYghDM9Sgyn",
        "outputId": "93a0b8ab-015c-4a85-85a6-e0ae00a2c390"
      },
      "execution_count": 9,
      "outputs": [
        {
          "output_type": "stream",
          "name": "stderr",
          "text": [
            "/usr/local/lib/python3.7/dist-packages/ipykernel_launcher.py:2: SettingWithCopyWarning: \n",
            "A value is trying to be set on a copy of a slice from a DataFrame.\n",
            "Try using .loc[row_indexer,col_indexer] = value instead\n",
            "\n",
            "See the caveats in the documentation: https://pandas.pydata.org/pandas-docs/stable/user_guide/indexing.html#returning-a-view-versus-a-copy\n",
            "  \n"
          ]
        }
      ]
    },
    {
      "cell_type": "markdown",
      "source": [
        "### From this point onwards, we ddemonstrate RFM modeling using RFM scores\n"
      ],
      "metadata": {
        "id": "OGMRmuyBixfE"
      }
    },
    {
      "cell_type": "code",
      "source": [
        "import datetime as dt\n",
        "### Setting latest date as per dataset\n",
        "latest_dt=dt.datetime(2011,12,10)\n",
        "\n",
        "###Creating RFM scores for each customer\n",
        "\n",
        "rfm_scores= rtl_raw_UK_3.groupby(['CustomerID']).agg({'InvoiceDate': lambda x: (latest_dt - x.max()).days,\\\n",
        "                                                      })\n"
      ],
      "metadata": {
        "id": "REf_qliQthys"
      },
      "execution_count": null,
      "outputs": []
    }
  ]
}