{
  "nbformat": 4,
  "nbformat_minor": 0,
  "metadata": {
    "colab": {
      "name": "Customer Segmentation.ipynb",
      "provenance": [],
      "collapsed_sections": [],
      "mount_file_id": "1JFs9gxCnb1NpC-j_LSiOPuQUbWXzpm0n",
      "authorship_tag": "ABX9TyNoTBOhtK0mdccf7f5/O9o7",
      "include_colab_link": true
    },
    "kernelspec": {
      "name": "python3",
      "display_name": "Python 3"
    },
    "language_info": {
      "name": "python"
    }
  },
  "cells": [
    {
      "cell_type": "markdown",
      "metadata": {
        "id": "view-in-github",
        "colab_type": "text"
      },
      "source": [
        "<a href=\"https://colab.research.google.com/github/akashban812/DS-practice/blob/main/Customer_Segmentation.ipynb\" target=\"_parent\"><img src=\"https://colab.research.google.com/assets/colab-badge.svg\" alt=\"Open In Colab\"/></a>"
      ]
    },
    {
      "cell_type": "code",
      "execution_count": 11,
      "metadata": {
        "id": "aof7VONKmKkb"
      },
      "outputs": [],
      "source": [
        "import os as os\n",
        "os.chdir('/content/drive/MyDrive/DS notebooks')\n",
        "os.getcwd()\n",
        "%matplotlib inline\n",
        "import numpy as np\n",
        "import pandas as pd\n",
        "import matplotlib.pyplot as plt\n"
      ]
    },
    {
      "cell_type": "code",
      "source": [
        "#@title Default title text\n",
        "##Importing the data\n",
        "##Unicode escape in activated to encounter any error arising due to any invalid characters\n",
        "\n",
        "## Using the 'Online Retail' dataset from Kaggle\n",
        "\n",
        "\n",
        "rtl_raw_data=pd.read_csv('OnlineRetail.csv',encoding='unicode_escape')\n",
        "\n"
      ],
      "metadata": {
        "id": "_xsOJ_kIrm2x",
        "cellView": "code"
      },
      "execution_count": 12,
      "outputs": []
    },
    {
      "cell_type": "code",
      "source": [
        "###checking distribution by country\n",
        "country_cust=rtl_raw_data[['Country','CustomerID']].drop_duplicates()\n",
        "country_cust_grp= country_cust.groupby(['Country'])['CustomerID'].nunique().reset_index().sort_values(by=['CustomerID'],ascending=[False])\n",
        "country_cust_grp\n",
        "\n",
        "##In the next step we'll use only the records for UK as it has the max customers\n",
        "rtl_raw_UK=rtl_raw_data[rtl_raw_data['Country']=='United Kingdom'].reset_index(drop=True)"
      ],
      "metadata": {
        "id": "Rbq90JNDx7yR"
      },
      "execution_count": 13,
      "outputs": []
    },
    {
      "cell_type": "code",
      "source": [
        "\n",
        "##Checking for missng values\n",
        "rtl_raw_UK.isnull().sum(axis=0)\n",
        "\n"
      ],
      "metadata": {
        "id": "BVR3FILJ5Fn5",
        "colab": {
          "base_uri": "https://localhost:8080/"
        },
        "outputId": "4fae8ff7-fe6f-40b7-9ba9-bdca0287ae1d"
      },
      "execution_count": 14,
      "outputs": [
        {
          "output_type": "execute_result",
          "data": {
            "text/plain": [
              "InvoiceNo           0\n",
              "StockCode           0\n",
              "Description      1454\n",
              "Quantity            0\n",
              "InvoiceDate         0\n",
              "UnitPrice           0\n",
              "CustomerID     133600\n",
              "Country             0\n",
              "dtype: int64"
            ]
          },
          "metadata": {},
          "execution_count": 14
        }
      ]
    },
    {
      "cell_type": "code",
      "source": [
        "##removing missing values for the customerid column\n",
        "rtl_raw_UK_2=rtl_raw_UK[pd.notnull(rtl_raw_UK['CustomerID'])]\n",
        "\n",
        "##Validating if there are any negative vales in the Quantity column\n",
        "rtl_raw_UK_2.Quantity.min()\n"
      ],
      "metadata": {
        "colab": {
          "base_uri": "https://localhost:8080/"
        },
        "id": "1Dm9VGn8DWy7",
        "outputId": "4c824b8d-d126-42b1-995e-2a47d9b4c5ea"
      },
      "execution_count": 15,
      "outputs": [
        {
          "output_type": "execute_result",
          "data": {
            "text/plain": [
              "-80995"
            ]
          },
          "metadata": {},
          "execution_count": 15
        }
      ]
    },
    {
      "cell_type": "code",
      "source": [
        "##Validating if there are any negative vales in the UnitPrice column\n",
        "rtl_raw_UK_2.UnitPrice.min()"
      ],
      "metadata": {
        "id": "WtOYsJ3ZGF1z",
        "colab": {
          "base_uri": "https://localhost:8080/"
        },
        "outputId": "8bbcd94b-f421-4315-adb1-f342cf1a72e5"
      },
      "execution_count": 16,
      "outputs": [
        {
          "output_type": "execute_result",
          "data": {
            "text/plain": [
              "0.0"
            ]
          },
          "metadata": {},
          "execution_count": 16
        }
      ]
    },
    {
      "cell_type": "code",
      "source": [
        "##Filtering out negative values from Quantity column\n",
        "rtl_raw_UK_3=rtl_raw_UK_2[rtl_raw_UK_2['Quantity']>0]\n",
        "\n",
        "##Converting the date filed to datetime\n",
        "rtl_raw_UK_3['InvoiceDate']=pd.to_datetime(rtl_raw_UK_3['InvoiceDate'])\n"
      ],
      "metadata": {
        "colab": {
          "base_uri": "https://localhost:8080/"
        },
        "id": "foTtGg8PM4ND",
        "outputId": "85033656-a9e9-4d1f-f441-5b4f7b62913a"
      },
      "execution_count": 17,
      "outputs": [
        {
          "output_type": "stream",
          "name": "stderr",
          "text": [
            "/usr/local/lib/python3.7/dist-packages/ipykernel_launcher.py:5: SettingWithCopyWarning: \n",
            "A value is trying to be set on a copy of a slice from a DataFrame.\n",
            "Try using .loc[row_indexer,col_indexer] = value instead\n",
            "\n",
            "See the caveats in the documentation: https://pandas.pydata.org/pandas-docs/stable/user_guide/indexing.html#returning-a-view-versus-a-copy\n",
            "  \"\"\"\n"
          ]
        }
      ]
    },
    {
      "cell_type": "code",
      "source": [
        "###Calculation of total amt\n",
        "rtl_raw_UK_3['total_spend']=rtl_raw_UK_3['Quantity']*rtl_raw_UK_3['UnitPrice']\n"
      ],
      "metadata": {
        "colab": {
          "base_uri": "https://localhost:8080/"
        },
        "id": "_mYghDM9Sgyn",
        "outputId": "178dba33-008b-4342-c519-5c81204bc7d0"
      },
      "execution_count": 18,
      "outputs": [
        {
          "output_type": "stream",
          "name": "stderr",
          "text": [
            "/usr/local/lib/python3.7/dist-packages/ipykernel_launcher.py:2: SettingWithCopyWarning: \n",
            "A value is trying to be set on a copy of a slice from a DataFrame.\n",
            "Try using .loc[row_indexer,col_indexer] = value instead\n",
            "\n",
            "See the caveats in the documentation: https://pandas.pydata.org/pandas-docs/stable/user_guide/indexing.html#returning-a-view-versus-a-copy\n",
            "  \n"
          ]
        }
      ]
    },
    {
      "cell_type": "markdown",
      "source": [
        "### From this point onwards, we demonstrate RFM modeling using RFM scores\n"
      ],
      "metadata": {
        "id": "OGMRmuyBixfE"
      }
    },
    {
      "cell_type": "code",
      "source": [
        "import datetime as dt\n",
        "### Setting latest date as per dataset\n",
        "latest_dt=dt.datetime(2011,12,10)\n",
        "\n",
        "###Creating RFM scores for each customer\n",
        "\n",
        "rfm_scores= rtl_raw_UK_3.groupby(['CustomerID']).agg({'InvoiceDate': lambda x: (latest_dt - x.max()).days,\\\n",
        "                                                      'InvoiceNo': lambda x: len(x), 'total_spend': lambda x: x.sum()}).reset_index()\n",
        "\n",
        "rfm_scores.rename(columns={'InvoiceDate':'recency','InvoiceNo':'frequency','total_spend':'monetary'},inplace=True)\n",
        "rfm_scores"
      ],
      "metadata": {
        "colab": {
          "base_uri": "https://localhost:8080/",
          "height": 424
        },
        "id": "REf_qliQthys",
        "outputId": "f7e9e763-a1c3-4429-d3c3-202e3ad4901f"
      },
      "execution_count": 30,
      "outputs": [
        {
          "output_type": "execute_result",
          "data": {
            "text/plain": [
              "      CustomerID  recency  frequency  monetary\n",
              "0        12346.0      325          1  77183.60\n",
              "1        12747.0       22        103   4196.01\n",
              "2        12748.0        4       4596  33719.73\n",
              "3        12749.0       22        199   4090.88\n",
              "4        12820.0       44         59    942.34\n",
              "...          ...      ...        ...       ...\n",
              "3916     18280.0      159         10    180.60\n",
              "3917     18281.0        3          7     80.82\n",
              "3918     18282.0      215         12    178.05\n",
              "3919     18283.0        9        756   2094.88\n",
              "3920     18287.0       -1         70   1837.28\n",
              "\n",
              "[3921 rows x 4 columns]"
            ],
            "text/html": [
              "\n",
              "  <div id=\"df-47cbf102-990d-468a-8dfb-76f7c1fd506e\">\n",
              "    <div class=\"colab-df-container\">\n",
              "      <div>\n",
              "<style scoped>\n",
              "    .dataframe tbody tr th:only-of-type {\n",
              "        vertical-align: middle;\n",
              "    }\n",
              "\n",
              "    .dataframe tbody tr th {\n",
              "        vertical-align: top;\n",
              "    }\n",
              "\n",
              "    .dataframe thead th {\n",
              "        text-align: right;\n",
              "    }\n",
              "</style>\n",
              "<table border=\"1\" class=\"dataframe\">\n",
              "  <thead>\n",
              "    <tr style=\"text-align: right;\">\n",
              "      <th></th>\n",
              "      <th>CustomerID</th>\n",
              "      <th>recency</th>\n",
              "      <th>frequency</th>\n",
              "      <th>monetary</th>\n",
              "    </tr>\n",
              "  </thead>\n",
              "  <tbody>\n",
              "    <tr>\n",
              "      <th>0</th>\n",
              "      <td>12346.0</td>\n",
              "      <td>325</td>\n",
              "      <td>1</td>\n",
              "      <td>77183.60</td>\n",
              "    </tr>\n",
              "    <tr>\n",
              "      <th>1</th>\n",
              "      <td>12747.0</td>\n",
              "      <td>22</td>\n",
              "      <td>103</td>\n",
              "      <td>4196.01</td>\n",
              "    </tr>\n",
              "    <tr>\n",
              "      <th>2</th>\n",
              "      <td>12748.0</td>\n",
              "      <td>4</td>\n",
              "      <td>4596</td>\n",
              "      <td>33719.73</td>\n",
              "    </tr>\n",
              "    <tr>\n",
              "      <th>3</th>\n",
              "      <td>12749.0</td>\n",
              "      <td>22</td>\n",
              "      <td>199</td>\n",
              "      <td>4090.88</td>\n",
              "    </tr>\n",
              "    <tr>\n",
              "      <th>4</th>\n",
              "      <td>12820.0</td>\n",
              "      <td>44</td>\n",
              "      <td>59</td>\n",
              "      <td>942.34</td>\n",
              "    </tr>\n",
              "    <tr>\n",
              "      <th>...</th>\n",
              "      <td>...</td>\n",
              "      <td>...</td>\n",
              "      <td>...</td>\n",
              "      <td>...</td>\n",
              "    </tr>\n",
              "    <tr>\n",
              "      <th>3916</th>\n",
              "      <td>18280.0</td>\n",
              "      <td>159</td>\n",
              "      <td>10</td>\n",
              "      <td>180.60</td>\n",
              "    </tr>\n",
              "    <tr>\n",
              "      <th>3917</th>\n",
              "      <td>18281.0</td>\n",
              "      <td>3</td>\n",
              "      <td>7</td>\n",
              "      <td>80.82</td>\n",
              "    </tr>\n",
              "    <tr>\n",
              "      <th>3918</th>\n",
              "      <td>18282.0</td>\n",
              "      <td>215</td>\n",
              "      <td>12</td>\n",
              "      <td>178.05</td>\n",
              "    </tr>\n",
              "    <tr>\n",
              "      <th>3919</th>\n",
              "      <td>18283.0</td>\n",
              "      <td>9</td>\n",
              "      <td>756</td>\n",
              "      <td>2094.88</td>\n",
              "    </tr>\n",
              "    <tr>\n",
              "      <th>3920</th>\n",
              "      <td>18287.0</td>\n",
              "      <td>-1</td>\n",
              "      <td>70</td>\n",
              "      <td>1837.28</td>\n",
              "    </tr>\n",
              "  </tbody>\n",
              "</table>\n",
              "<p>3921 rows × 4 columns</p>\n",
              "</div>\n",
              "      <button class=\"colab-df-convert\" onclick=\"convertToInteractive('df-47cbf102-990d-468a-8dfb-76f7c1fd506e')\"\n",
              "              title=\"Convert this dataframe to an interactive table.\"\n",
              "              style=\"display:none;\">\n",
              "        \n",
              "  <svg xmlns=\"http://www.w3.org/2000/svg\" height=\"24px\"viewBox=\"0 0 24 24\"\n",
              "       width=\"24px\">\n",
              "    <path d=\"M0 0h24v24H0V0z\" fill=\"none\"/>\n",
              "    <path d=\"M18.56 5.44l.94 2.06.94-2.06 2.06-.94-2.06-.94-.94-2.06-.94 2.06-2.06.94zm-11 1L8.5 8.5l.94-2.06 2.06-.94-2.06-.94L8.5 2.5l-.94 2.06-2.06.94zm10 10l.94 2.06.94-2.06 2.06-.94-2.06-.94-.94-2.06-.94 2.06-2.06.94z\"/><path d=\"M17.41 7.96l-1.37-1.37c-.4-.4-.92-.59-1.43-.59-.52 0-1.04.2-1.43.59L10.3 9.45l-7.72 7.72c-.78.78-.78 2.05 0 2.83L4 21.41c.39.39.9.59 1.41.59.51 0 1.02-.2 1.41-.59l7.78-7.78 2.81-2.81c.8-.78.8-2.07 0-2.86zM5.41 20L4 18.59l7.72-7.72 1.47 1.35L5.41 20z\"/>\n",
              "  </svg>\n",
              "      </button>\n",
              "      \n",
              "  <style>\n",
              "    .colab-df-container {\n",
              "      display:flex;\n",
              "      flex-wrap:wrap;\n",
              "      gap: 12px;\n",
              "    }\n",
              "\n",
              "    .colab-df-convert {\n",
              "      background-color: #E8F0FE;\n",
              "      border: none;\n",
              "      border-radius: 50%;\n",
              "      cursor: pointer;\n",
              "      display: none;\n",
              "      fill: #1967D2;\n",
              "      height: 32px;\n",
              "      padding: 0 0 0 0;\n",
              "      width: 32px;\n",
              "    }\n",
              "\n",
              "    .colab-df-convert:hover {\n",
              "      background-color: #E2EBFA;\n",
              "      box-shadow: 0px 1px 2px rgba(60, 64, 67, 0.3), 0px 1px 3px 1px rgba(60, 64, 67, 0.15);\n",
              "      fill: #174EA6;\n",
              "    }\n",
              "\n",
              "    [theme=dark] .colab-df-convert {\n",
              "      background-color: #3B4455;\n",
              "      fill: #D2E3FC;\n",
              "    }\n",
              "\n",
              "    [theme=dark] .colab-df-convert:hover {\n",
              "      background-color: #434B5C;\n",
              "      box-shadow: 0px 1px 3px 1px rgba(0, 0, 0, 0.15);\n",
              "      filter: drop-shadow(0px 1px 2px rgba(0, 0, 0, 0.3));\n",
              "      fill: #FFFFFF;\n",
              "    }\n",
              "  </style>\n",
              "\n",
              "      <script>\n",
              "        const buttonEl =\n",
              "          document.querySelector('#df-47cbf102-990d-468a-8dfb-76f7c1fd506e button.colab-df-convert');\n",
              "        buttonEl.style.display =\n",
              "          google.colab.kernel.accessAllowed ? 'block' : 'none';\n",
              "\n",
              "        async function convertToInteractive(key) {\n",
              "          const element = document.querySelector('#df-47cbf102-990d-468a-8dfb-76f7c1fd506e');\n",
              "          const dataTable =\n",
              "            await google.colab.kernel.invokeFunction('convertToInteractive',\n",
              "                                                     [key], {});\n",
              "          if (!dataTable) return;\n",
              "\n",
              "          const docLinkHtml = 'Like what you see? Visit the ' +\n",
              "            '<a target=\"_blank\" href=https://colab.research.google.com/notebooks/data_table.ipynb>data table notebook</a>'\n",
              "            + ' to learn more about interactive tables.';\n",
              "          element.innerHTML = '';\n",
              "          dataTable['output_type'] = 'display_data';\n",
              "          await google.colab.output.renderOutput(dataTable, element);\n",
              "          const docLink = document.createElement('div');\n",
              "          docLink.innerHTML = docLinkHtml;\n",
              "          element.appendChild(docLink);\n",
              "        }\n",
              "      </script>\n",
              "    </div>\n",
              "  </div>\n",
              "  "
            ]
          },
          "metadata": {},
          "execution_count": 30
        }
      ]
    },
    {
      "cell_type": "code",
      "source": [
        "qcols=['recency','frequency','monetary']\n",
        "\n",
        "\n",
        "for i in qcols:\n",
        "  qnt=rfm_scores[i].quantile(q=[0.25,0.5,0.75])\n",
        "  print(qnt)"
      ],
      "metadata": {
        "colab": {
          "base_uri": "https://localhost:8080/"
        },
        "id": "i7saW1NFyxDd",
        "outputId": "3279ef9e-0624-4d41-b67d-2409990ce743"
      },
      "execution_count": 32,
      "outputs": [
        {
          "output_type": "stream",
          "name": "stdout",
          "text": [
            "0.25     21.0\n",
            "0.50     60.0\n",
            "0.75    161.0\n",
            "Name: recency, dtype: float64\n",
            "0.25    17.0\n",
            "0.50    41.0\n",
            "0.75    99.0\n",
            "Name: frequency, dtype: float64\n",
            "0.25     300.04\n",
            "0.50     651.82\n",
            "0.75    1575.89\n",
            "Name: monetary, dtype: float64\n"
          ]
        }
      ]
    }
  ]
}