{
  "nbformat": 4,
  "nbformat_minor": 0,
  "metadata": {
    "colab": {
      "name": "Logistic reg.ipynb",
      "provenance": [],
      "mount_file_id": "1e0KJm2HlI2n27xk6pI3GFqNJWcuK85PC",
      "authorship_tag": "ABX9TyNrD9OS+Tnjo1BgeFNRrCk/",
      "include_colab_link": true
    },
    "kernelspec": {
      "name": "python3",
      "display_name": "Python 3"
    },
    "language_info": {
      "name": "python"
    }
  },
  "cells": [
    {
      "cell_type": "markdown",
      "metadata": {
        "id": "view-in-github",
        "colab_type": "text"
      },
      "source": [
        "<a href=\"https://colab.research.google.com/github/akashban812/DS-practice/blob/main/Logistic_reg.ipynb\" target=\"_parent\"><img src=\"https://colab.research.google.com/assets/colab-badge.svg\" alt=\"Open In Colab\"/></a>"
      ]
    },
    {
      "cell_type": "code",
      "source": [
        "import os as os\n",
        "os.chdir('/content/drive/MyDrive/DS notebooks')\n",
        "os.getcwd()"
      ],
      "metadata": {
        "colab": {
          "base_uri": "https://localhost:8080/",
          "height": 35
        },
        "id": "gsdipNn5E7bs",
        "outputId": "a80857ed-a047-4be0-f033-424c1babf5dd"
      },
      "execution_count": 1,
      "outputs": [
        {
          "output_type": "execute_result",
          "data": {
            "text/plain": [
              "'/content/drive/MyDrive/DS notebooks'"
            ],
            "application/vnd.google.colaboratory.intrinsic+json": {
              "type": "string"
            }
          },
          "metadata": {},
          "execution_count": 1
        }
      ]
    },
    {
      "cell_type": "code",
      "execution_count": 3,
      "metadata": {
        "colab": {
          "base_uri": "https://localhost:8080/",
          "height": 1000
        },
        "id": "ovco2bAwq1TP",
        "outputId": "3b9b51d5-3bee-4263-ee40-18727debcda5"
      },
      "outputs": [
        {
          "output_type": "stream",
          "name": "stdout",
          "text": [
            "<class 'pandas.core.frame.DataFrame'>\n",
            "RangeIndex: 891 entries, 0 to 890\n",
            "Data columns (total 12 columns):\n",
            " #   Column       Non-Null Count  Dtype  \n",
            "---  ------       --------------  -----  \n",
            " 0   PassengerId  891 non-null    int64  \n",
            " 1   Survived     891 non-null    int64  \n",
            " 2   Pclass       891 non-null    int64  \n",
            " 3   Name         891 non-null    object \n",
            " 4   Sex          891 non-null    object \n",
            " 5   Age          714 non-null    float64\n",
            " 6   SibSp        891 non-null    int64  \n",
            " 7   Parch        891 non-null    int64  \n",
            " 8   Ticket       891 non-null    object \n",
            " 9   Fare         891 non-null    float64\n",
            " 10  Cabin        204 non-null    object \n",
            " 11  Embarked     889 non-null    object \n",
            "dtypes: float64(2), int64(5), object(5)\n",
            "memory usage: 83.7+ KB\n"
          ]
        },
        {
          "output_type": "stream",
          "name": "stderr",
          "text": [
            "/usr/local/lib/python3.7/dist-packages/sklearn/utils/validation.py:1692: FutureWarning: Feature names only support names that are all strings. Got feature names with dtypes: ['int', 'str']. An error will be raised in 1.2.\n",
            "  FutureWarning,\n",
            "/usr/local/lib/python3.7/dist-packages/sklearn/linear_model/_logistic.py:818: ConvergenceWarning: lbfgs failed to converge (status=1):\n",
            "STOP: TOTAL NO. of ITERATIONS REACHED LIMIT.\n",
            "\n",
            "Increase the number of iterations (max_iter) or scale the data as shown in:\n",
            "    https://scikit-learn.org/stable/modules/preprocessing.html\n",
            "Please also refer to the documentation for alternative solver options:\n",
            "    https://scikit-learn.org/stable/modules/linear_model.html#logistic-regression\n",
            "  extra_warning_msg=_LOGISTIC_SOLVER_CONVERGENCE_MSG,\n",
            "/usr/local/lib/python3.7/dist-packages/sklearn/utils/validation.py:1692: FutureWarning: Feature names only support names that are all strings. Got feature names with dtypes: ['int', 'str']. An error will be raised in 1.2.\n",
            "  FutureWarning,\n",
            "/usr/local/lib/python3.7/dist-packages/sklearn/utils/validation.py:1692: FutureWarning: Feature names only support names that are all strings. Got feature names with dtypes: ['int', 'str']. An error will be raised in 1.2.\n",
            "  FutureWarning,\n",
            "/usr/local/lib/python3.7/dist-packages/sklearn/utils/validation.py:1692: FutureWarning: Feature names only support names that are all strings. Got feature names with dtypes: ['int', 'str']. An error will be raised in 1.2.\n",
            "  FutureWarning,\n"
          ]
        },
        {
          "output_type": "stream",
          "name": "stdout",
          "text": [
            "              precision    recall  f1-score   support\n",
            "\n",
            "           0       0.81      0.89      0.85       162\n",
            "           1       0.80      0.68      0.73       106\n",
            "\n",
            "    accuracy                           0.81       268\n",
            "   macro avg       0.80      0.78      0.79       268\n",
            "weighted avg       0.81      0.81      0.80       268\n",
            "\n"
          ]
        },
        {
          "output_type": "display_data",
          "data": {
            "text/plain": [
              "<Figure size 432x288 with 1 Axes>"
            ],
            "image/png": "[encoded data removed]"
          },
          "metadata": {
            "needs_background": "light"
          }
        },
        {
          "output_type": "display_data",
          "data": {
            "text/plain": [
              "<Figure size 864x576 with 1 Axes>"
            ],
            "image/png": "[encoded data removed]"
          },
          "metadata": {
            "needs_background": "light"
          }
        },
        {
          "output_type": "display_data",
          "data": {
            "text/plain": [
              "<Figure size 432x288 with 1 Axes>"
            ],
            "image/png": "[encoded data removed]"
          },
          "metadata": {
            "needs_background": "light"
          }
        }
      ],
      "source": [
        "\n",
        "\n",
        "#Import necessary libraries\n",
        "import numpy as np\n",
        "import pandas as pd\n",
        "import matplotlib.pyplot as plt\n",
        "import seaborn as sns\n",
        "import pandas_profiling\n",
        "get_ipython().run_line_magic('matplotlib', 'inline')\n",
        "\n",
        "\n",
        "\n",
        "\n",
        "\n",
        "\n",
        "\n",
        "# In[3]:\n",
        "\n",
        "\n",
        "#Import Titanic Dataset\n",
        "titanic_data = pd.read_csv('Titanic_Dataset.csv')\n",
        "\n",
        "\n",
        "# In[4]:\n",
        "\n",
        "\n",
        "#Count number of passenger who survived and NOT survived: 0 = Not Survived, 1 = Survived\n",
        "sns.countplot(x='Survived',data=titanic_data)\n",
        "\n",
        "\n",
        "# In[5]:\n",
        "\n",
        "\n",
        "#Count number of males and females who survived and NOT survived: 0 = Not Survived, 1 = Survived\n",
        "sns.countplot(x='Survived',hue='Sex',data=titanic_data)\n",
        "\n",
        "\n",
        "# In[6]:\n",
        "\n",
        "\n",
        "#Count which class passengers survived most\n",
        "sns.barplot(x='Pclass', y='Survived', data=titanic_data)\n",
        "\n",
        "\n",
        "# In[7]:\n",
        "\n",
        "\n",
        "#Verify missing values in each column\n",
        "titanic_data.isnull().sum()\n",
        "\n",
        "\n",
        "# In[8]:\n",
        "\n",
        "\n",
        "#Check data types of each column and hence finding out which columns are categorical in nature\n",
        "titanic_data.info()\n",
        "\n",
        "\n",
        "# In[9]:\n",
        "\n",
        "\n",
        "#Visualize and find out average age by class\n",
        "plt.figure(figsize=(12, 8))\n",
        "sns.boxplot(x='Pclass',y='Age',data=titanic_data,palette='winter')\n",
        "\n",
        "\n",
        "# In[10]:\n",
        "\n",
        "\n",
        "#Function to impute missing values in age column based on class\n",
        "def imput_age(cols):\n",
        "    Age = cols[0]\n",
        "    Pclass = cols[1]\n",
        "    if pd.isnull(Age):\n",
        "        return int(titanic_data[titanic_data[\"Pclass\"] == Pclass][\"Age\"].mean())\n",
        "    else:\n",
        "        return Age\n",
        "\n",
        "\n",
        "# In[11]:\n",
        "\n",
        "\n",
        "#Impute missing values in age column by average age\n",
        "titanic_data[\"Age\"] = titanic_data[[\"Age\", \"Pclass\"]].apply(imput_age,axis=1)\n",
        "\n",
        "\n",
        "# In[12]:\n",
        "\n",
        "\n",
        "#Drop Cabin column\n",
        "titanic_data.drop(\"Cabin\",inplace=True,axis=1)\n",
        "\n",
        "\n",
        "# In[13]:\n",
        "\n",
        "\n",
        "#Impute Embarked missing values with most common values\n",
        "most_common_value = 'S'\n",
        "\n",
        "for data in titanic_data:\n",
        "    titanic_data['Embarked'] = titanic_data['Embarked'].fillna(most_common_value)\n",
        "\n",
        "\n",
        "# In[14]:\n",
        "\n",
        "\n",
        "#Check if there are any missing values left\n",
        "titanic_data.isnull().sum()\n",
        "\n",
        "\n",
        "# In[15]:\n",
        "\n",
        "\n",
        "#Convert categorical variables into Dummy variables\n",
        "sex = pd.get_dummies(titanic_data['Sex'],drop_first=True)\n",
        "embark = pd.get_dummies(titanic_data['Embarked'],drop_first=True)\n",
        "pclass = pd.get_dummies(titanic_data[\"Pclass\"],drop_first=True)\n",
        "\n",
        "\n",
        "# In[16]:\n",
        "\n",
        "\n",
        "#Drop irrelevant columns\n",
        "titanic_data.drop(['PassengerId','Sex','Embarked','Name','Ticket','Pclass'],axis=1,inplace=True)\n",
        "\n",
        "\n",
        "# In[17]:\n",
        "\n",
        "\n",
        "#Validate the columns and data\n",
        "titanic_data.head()\n",
        "\n",
        "\n",
        "# In[18]:\n",
        "\n",
        "\n",
        "#Concatenate the dummy variables, created above\n",
        "titanic_data = pd.concat([titanic_data,sex,embark,pclass],axis=1)\n",
        "titanic_data.head()\n",
        "\n",
        "\n",
        "# In[19]:\n",
        "\n",
        "\n",
        "#Create Feature variable X and Target variable y\n",
        "X = titanic_data.drop(\"Survived\",axis=1)\n",
        "y = titanic_data['Survived']\n",
        "\n",
        "\n",
        "# In[20]:\n",
        "\n",
        "\n",
        "#Split the data into training set (70%) and test set (30%)\n",
        "from sklearn.model_selection import train_test_split\n",
        "X_train, X_test, y_train, y_test = train_test_split(X, y, test_size=0.30, random_state=50)\n",
        "\n",
        "\n",
        "# In[21]:\n",
        "\n",
        "\n",
        "#Fit the logistic Regression Model\n",
        "from sklearn.linear_model import LogisticRegression\n",
        "logmodel = LogisticRegression(random_state=50)\n",
        "logmodel.fit(X_train,y_train)\n",
        "\n",
        "#Predict the value for new, unseen data\n",
        "pred = logmodel.predict(X_test)\n",
        "pred\n",
        "\n",
        "\n",
        "# In[22]:\n",
        "\n",
        "\n",
        "#Check the values of first record correspoding to the first vector value given above.\n",
        "X_test.head(1)\n",
        "\n",
        "\n",
        "# In[28]:\n",
        "\n",
        "\n",
        "#Calculate Precision, Recall and F1-Score\n",
        "from sklearn.metrics import classification_report\n",
        "print(classification_report(y_test,pred))\n",
        "\n",
        "\n",
        "# In[24]:\n",
        "\n",
        "\n",
        "#Generate confusion matrix\n",
        "from sklearn.metrics import confusion_matrix\n",
        "conf_mat = confusion_matrix(y_test,pred)\n",
        "conf_mat\n",
        "\n",
        "\n",
        "# In[26]:\n",
        "\n",
        "\n",
        "#Generate AUC-ROC curve\n",
        "from sklearn.metrics import roc_auc_score\n",
        "from sklearn.metrics import roc_curve\n",
        "logit_roc_auc = roc_auc_score(y_test, logmodel.predict(X_test))\n",
        "fpr, tpr, thresholds = roc_curve(y_test, logmodel.predict_proba(X_test)[:,1])\n",
        "plt.figure()\n",
        "plt.plot(fpr, tpr, label='Logistic Regression (area = %0.2f)' % logit_roc_auc)\n",
        "plt.plot([0, 1], [0, 1],'r--')\n",
        "plt.xlim([0.0, 1.0])\n",
        "plt.ylim([0.0, 1.05])\n",
        "plt.xlabel('False Positive Rate')\n",
        "plt.ylabel('True Positive Rate')\n",
        "plt.title('Receiver Operating Characteristic')\n",
        "plt.legend(loc=\"lower right\")\n",
        "plt.savefig('Log_ROC')\n",
        "plt.show()\n",
        "\n",
        "\n",
        "\n",
        "\n",
        "\n"
      ]
    },
    {
      "cell_type": "code",
      "source": [
        ""
      ],
      "metadata": {
        "id": "gDo0XJYfFT8s"
      },
      "execution_count": null,
      "outputs": []
    }
  ]
}